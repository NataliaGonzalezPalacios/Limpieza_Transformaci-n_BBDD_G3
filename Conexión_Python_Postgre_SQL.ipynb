{
  "nbformat": 4,
  "nbformat_minor": 0,
  "metadata": {
    "colab": {
      "provenance": []
    },
    "kernelspec": {
      "name": "python3",
      "display_name": "Python 3"
    },
    "language_info": {
      "name": "python"
    }
  },
  "cells": [
    {
      "cell_type": "code",
      "execution_count": null,
      "metadata": {
        "id": "RY5mdLrpjvbq"
      },
      "outputs": [],
      "source": [
        "## Instalando Librerias \n",
        "pip install psycopg2 \n",
        "pip install pygresql|\n",
        "\n",
        "\n",
        "conexion = psycopg2.connect(host=\"localhost\", database=\"GRUPAL\", user=\"usuario\", password=\"contraseña\")\n",
        "\n",
        "\n",
        "# Creamos el cursor con el objeto conexion\n",
        "cur = conexion.cursor()\n",
        "\n",
        "# Ejecutamos una consulta\n",
        "cur.execute( \"SELECT fecha, Deaths, Longitude FROM Casos_Diarios where Combined_Key = 'Tolima, Colombia'\")\n",
        "\n",
        "\n",
        "# Cerramos la conexión\n",
        "conexion.close()"
      ]
    },
    {
      "cell_type": "code",
      "source": [
        "import psycopg2\n",
        "from config import config\n",
        " \n",
        "def conectar():\n",
        "    \"\"\" Conexión al servidor de pases de datos PostgreSQL \"\"\"\n",
        "    conexion = None\n",
        "    try:\n",
        "        # Lectura de los parámetros de conexion\n",
        "        params = config()\n",
        " \n",
        "        # Conexion al servidor de PostgreSQL\n",
        "        print('Conectando a la base de datos PostgreSQL...')\n",
        "        conexion = psycopg2.connect(**params)\n",
        " \n",
        "        # creación del cursor\n",
        "        cur = conexion.cursor()\n",
        "        \n",
        "        # Ejecución de una consulta con la version de PostgreSQL\n",
        "        print('La version de PostgreSQL es la:')\n",
        "        cur.execute('SELECT version()')\n",
        " \n",
        "        # Ahora mostramos la version\n",
        "        version = cur.fetchone()\n",
        "        print(version)\n",
        "       \n",
        "        # Cierre de la comunicación con PostgreSQL\n",
        "        cur.close()\n",
        "    except (Exception, psycopg2.DatabaseError) as error:\n",
        "        print(error)\n",
        "    finally:\n",
        "        if conexion is not None:\n",
        "            conexion.close()\n",
        "            print('Conexión finalizada.')\n",
        " \n",
        " \n",
        "if __name__ == '__main__':\n",
        "    conectar()"
      ],
      "metadata": {
        "id": "rv7N3HPMqVk1"
      },
      "execution_count": null,
      "outputs": []
    }
  ]
}